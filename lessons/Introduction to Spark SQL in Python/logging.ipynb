{
 "cells": [
  {
   "cell_type": "markdown",
   "source": [
    "## Logging primer"
   ],
   "metadata": {
    "collapsed": false,
    "pycharm": {
     "name": "#%% md\n"
    }
   }
  },
  {
   "cell_type": "code",
   "execution_count": 8,
   "metadata": {
    "collapsed": true
   },
   "outputs": [
    {
     "name": "stdout",
     "output_type": "stream",
     "text": [
      "2021-12-06 10:39:08,748 - INFO - Hello world\n"
     ]
    }
   ],
   "source": [
    "import logging\n",
    "import sys\n",
    "\n",
    "logging.basicConfig(stream=sys.stdout, level=logging.INFO, format='%(asctime)s - %(levelname)s - %(message)s')\n",
    "logging.info('Hello %s', 'world')\n",
    "logging.debug('Hello, take %d', 2)"
   ]
  },
  {
   "cell_type": "markdown",
   "source": [
    "## Debugging lazy evaluation\n",
    "- lazy evaluation\n",
    "- distributed execution"
   ],
   "metadata": {
    "collapsed": false,
    "pycharm": {
     "name": "#%% md\n"
    }
   }
  },
  {
   "cell_type": "markdown",
   "source": [
    "## class timer"
   ],
   "metadata": {
    "collapsed": false,
    "pycharm": {
     "name": "#%% md\n"
    }
   }
  },
  {
   "cell_type": "code",
   "execution_count": 9,
   "outputs": [],
   "source": [
    "import time\n",
    "\n",
    "class timer:\n",
    "    start_time = time.time()\n",
    "    step = 0\n",
    "\n",
    "    def elapsed(self, reset=True):\n",
    "        self.step += 1\n",
    "        print('%d. elapsed: %.1f sec' % (self.step, time.time() - self.start_time))\n",
    "        if reset:\n",
    "            self.reset()\n",
    "\n",
    "    def reset(self):\n",
    "        self.start_time - time.time()"
   ],
   "metadata": {
    "collapsed": false,
    "pycharm": {
     "name": "#%%\n"
    }
   }
  },
  {
   "cell_type": "code",
   "execution_count": 10,
   "outputs": [
    {
     "name": "stdout",
     "output_type": "stream",
     "text": [
      "1. elapsed: 0.4 sec\n"
     ]
    }
   ],
   "source": [
    "t = timer()\n",
    "t.elapsed()"
   ],
   "metadata": {
    "collapsed": false,
    "pycharm": {
     "name": "#%%\n"
    }
   }
  },
  {
   "cell_type": "code",
   "execution_count": 11,
   "outputs": [
    {
     "name": "stdout",
     "output_type": "stream",
     "text": [
      "2. elapsed: 0.9 sec\n"
     ]
    }
   ],
   "source": [
    "t.elapsed()"
   ],
   "metadata": {
    "collapsed": false,
    "pycharm": {
     "name": "#%%\n"
    }
   }
  },
  {
   "cell_type": "code",
   "execution_count": 12,
   "outputs": [
    {
     "name": "stdout",
     "output_type": "stream",
     "text": [
      "3. elapsed: 1.6 sec\n"
     ]
    }
   ],
   "source": [
    "t.reset()\n",
    "t.elapsed()"
   ],
   "metadata": {
    "collapsed": false,
    "pycharm": {
     "name": "#%%\n"
    }
   }
  },
  {
   "cell_type": "markdown",
   "source": [
    "## Stealth CPU wastage"
   ],
   "metadata": {
    "collapsed": false,
    "pycharm": {
     "name": "#%% md\n"
    }
   }
  },
  {
   "cell_type": "code",
   "execution_count": null,
   "outputs": [],
   "source": [
    "t = timer()\n",
    "logging.info('No action here')\n",
    "t.elapsed()\n",
    "logging.debug('df has %d rows.', df.count())\n",
    "t.elapsed()"
   ],
   "metadata": {
    "collapsed": false,
    "pycharm": {
     "name": "#%%\n"
    }
   }
  },
  {
   "cell_type": "markdown",
   "source": [
    "## Disable actions"
   ],
   "metadata": {
    "collapsed": false,
    "pycharm": {
     "name": "#%% md\n"
    }
   }
  },
  {
   "cell_type": "code",
   "execution_count": null,
   "outputs": [],
   "source": [
    "ENABLED = False\n",
    "\n",
    "t = timer()\n",
    "logging.info('No action here')\n",
    "t.elapsed()\n",
    "if ENABLED:\n",
    "    logging.info('df has %d rows.', df.count())\n",
    "t.elapsed()"
   ],
   "metadata": {
    "collapsed": false,
    "pycharm": {
     "name": "#%%\n"
    }
   }
  }
 ],
 "metadata": {
  "kernelspec": {
   "display_name": "Python 3",
   "language": "python",
   "name": "python3"
  },
  "language_info": {
   "codemirror_mode": {
    "name": "ipython",
    "version": 2
   },
   "file_extension": ".py",
   "mimetype": "text/x-python",
   "name": "python",
   "nbconvert_exporter": "python",
   "pygments_lexer": "ipython2",
   "version": "2.7.6"
  }
 },
 "nbformat": 4,
 "nbformat_minor": 0
}